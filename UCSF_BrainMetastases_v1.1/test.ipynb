{
 "cells": [
  {
   "cell_type": "code",
   "execution_count": 2,
   "metadata": {},
   "outputs": [],
   "source": [
    "import pydicom\n",
    "import matplotlib.pyplot as plt\n"
   ]
  },
  {
   "cell_type": "code",
   "execution_count": 14,
   "metadata": {},
   "outputs": [],
   "source": [
    "dicom_file_path = 'train-dic/IM_0007.dcm'\n",
    "ds = pydicom.dcmread(dicom_file_path)"
   ]
  },
  {
   "cell_type": "code",
   "execution_count": 19,
   "metadata": {},
   "outputs": [
    {
     "name": "stdout",
     "output_type": "stream",
     "text": [
      "Dataset.file_meta -------------------------------\n",
      "(0002, 0000) File Meta Information Group Length  UL: 160\n",
      "(0002, 0001) File Meta Information Version       OB: b'\\x00\\x01'\n",
      "(0002, 0002) Media Storage SOP Class UID         UI: ''\n",
      "(0002, 0003) Media Storage SOP Instance UID      UI: 2.25.319919663438492052778977637180184593747\n",
      "(0002, 0010) Transfer Syntax UID                 UI: Explicit VR Little Endian\n",
      "(0002, 0012) Implementation Class UID            UI: 1.2.826.0.1.3680043.8.498.1\n",
      "(0002, 0013) Implementation Version Name         SH: 'nii2dcm_DICOM'\n",
      "-------------------------------------------------\n",
      "(0008, 0005) Specific Character Set              CS: 'ISO_IR 100'\n",
      "(0008, 0008) Image Type                          CS: ['DERIVED', 'SECONDARY']\n",
      "(0008, 0012) Instance Creation Date              DA: '20230724'\n",
      "(0008, 0013) Instance Creation Time              TM: '011904.159410'\n",
      "(0008, 0014) Instance Creator UID                UI: ''\n",
      "(0008, 0016) SOP Class UID                       UI: ''\n",
      "(0008, 0018) SOP Instance UID                    UI: 2.25.319919663438492052778977637180184593747\n",
      "(0008, 0020) Study Date                          DA: '20230724'\n",
      "(0008, 0021) Series Date                         DA: '20230724'\n",
      "(0008, 0022) Acquisition Date                    DA: '20230724'\n",
      "(0008, 0023) Content Date                        DA: '20230724'\n",
      "(0008, 0030) Study Time                          TM: '011904.159410'\n",
      "(0008, 0031) Series Time                         TM: '011904.159410'\n",
      "(0008, 0032) Acquisition Time                    TM: '011904.159410'\n",
      "(0008, 0033) Content Time                        TM: '011904.159410'\n",
      "(0008, 0050) Accession Number                    SH: 'ABCXYZ'\n",
      "(0008, 0060) Modality                            CS: ''\n",
      "(0008, 0070) Manufacturer                        LO: ''\n",
      "(0008, 0080) Institution Name                    LO: 'INSTITUTION_NAME_NONE'\n",
      "(0008, 1030) Study Description                   LO: ''\n",
      "(0008, 1090) Manufacturer's Model Name           LO: ''\n",
      "(0010, 0010) Patient's Name                      PN: 'Test^Firstname'\n",
      "(0010, 0020) Patient ID                          LO: '12345678'\n",
      "(0010, 0030) Patient's Birth Date                DA: ''\n",
      "(0010, 0040) Patient's Sex                       CS: ''\n",
      "(0010, 1010) Patient's Age                       AS: ''\n",
      "(0010, 1030) Patient's Weight                    DS: None\n",
      "(0018, 0015) Body Part Examined                  CS: ''\n",
      "(0018, 0050) Slice Thickness                     DS: '1.5'\n",
      "(0018, 0088) Spacing Between Slices              DS: '1.5'\n",
      "(0018, 1030) Protocol Name                       LO: 'nii2dcm_DICOM'\n",
      "(0020, 000d) Study Instance UID                  UI: 2.25.206712905514509732046141102226394427898\n",
      "(0020, 000e) Series Instance UID                 UI: 2.25.309580415675768674646597885633235484260\n",
      "(0020, 0011) Series Number                       IS: None\n",
      "(0020, 0012) Acquisition Number                  IS: None\n",
      "(0020, 0013) Instance Number                     IS: '7'\n",
      "(0020, 0032) Image Position (Patient)            DS: [-105.35798645019531, -117.52098846435547, -54.73379898071289]\n",
      "(0020, 0037) Image Orientation (Patient)         DS: [-0.0, -1.0, -0.0, -1.0, -0.0, -0.0]\n",
      "(0020, 0052) Frame of Reference UID              UI: 2.25.113026943789550822481368854028472673332\n",
      "(0020, 1041) Slice Location                      DS: '9.0'\n",
      "(0028, 0002) Samples per Pixel                   US: None\n",
      "(0028, 0004) Photometric Interpretation          CS: 'MONOCHROME2'\n",
      "(0028, 0010) Rows                                US: 256\n",
      "(0028, 0011) Columns                             US: 256\n",
      "(0028, 0030) Pixel Spacing                       DS: [0.86, 0.86]\n",
      "(0028, 0100) Bits Allocated                      US: 16\n",
      "(0028, 0101) Bits Stored                         US: 8\n",
      "(0028, 0103) Pixel Representation                US: 0\n",
      "(0028, 1050) Window Center                       DS: '3761.0'\n",
      "(0028, 1051) Window Width                        DS: '7522.0'\n",
      "(0028, 1052) Rescale Intercept                   DS: '0.0'\n",
      "(0028, 1053) Rescale Slope                       DS: '1.0'\n",
      "(7fe0, 0010) Pixel Data                          OW: Array of 131072 elements\n"
     ]
    },
    {
     "ename": "ValueError",
     "evalue": "The length of the pixel data in the dataset (131072 bytes) doesn't match the expected length (262144 bytes). The dataset may be corrupted or there may be an issue with the pixel data handler.",
     "output_type": "error",
     "traceback": [
      "\u001b[0;31m---------------------------------------------------------------------------\u001b[0m",
      "\u001b[0;31mValueError\u001b[0m                                Traceback (most recent call last)",
      "Cell \u001b[0;32mIn[19], line 12\u001b[0m\n\u001b[1;32m      9\u001b[0m ds\u001b[39m.\u001b[39mPlanarConfiguration \u001b[39m=\u001b[39m \u001b[39m1\u001b[39m\n\u001b[1;32m     11\u001b[0m \u001b[39mtry\u001b[39;00m:\n\u001b[0;32m---> 12\u001b[0m     pixel_array \u001b[39m=\u001b[39m ds\u001b[39m.\u001b[39;49mpixel_array\n\u001b[1;32m     13\u001b[0m \u001b[39mexcept\u001b[39;00m \u001b[39mAttributeError\u001b[39;00m \u001b[39mas\u001b[39;00m e:\n\u001b[1;32m     14\u001b[0m     \u001b[39mprint\u001b[39m(e)\n",
      "File \u001b[0;32m~/Desktop/Sandbox/UCSF_BrainMetastases_v1.1/nii2dcm-venv/lib/python3.8/site-packages/pydicom/dataset.py:1887\u001b[0m, in \u001b[0;36mDataset.pixel_array\u001b[0;34m(self)\u001b[0m\n\u001b[1;32m   1872\u001b[0m \u001b[39m@property\u001b[39m\n\u001b[1;32m   1873\u001b[0m \u001b[39mdef\u001b[39;00m \u001b[39mpixel_array\u001b[39m(\u001b[39mself\u001b[39m) \u001b[39m-\u001b[39m\u001b[39m>\u001b[39m \u001b[39m\"\u001b[39m\u001b[39mnumpy.ndarray\u001b[39m\u001b[39m\"\u001b[39m:\n\u001b[1;32m   1874\u001b[0m \u001b[39m    \u001b[39m\u001b[39m\"\"\"Return the pixel data as a :class:`numpy.ndarray`.\u001b[39;00m\n\u001b[1;32m   1875\u001b[0m \n\u001b[1;32m   1876\u001b[0m \u001b[39m    .. versionchanged:: 1.4\u001b[39;00m\n\u001b[0;32m   (...)\u001b[0m\n\u001b[1;32m   1885\u001b[0m \u001b[39m        :class:`numpy.ndarray`.\u001b[39;00m\n\u001b[1;32m   1886\u001b[0m \u001b[39m    \"\"\"\u001b[39;00m\n\u001b[0;32m-> 1887\u001b[0m     \u001b[39mself\u001b[39;49m\u001b[39m.\u001b[39;49mconvert_pixel_data()\n\u001b[1;32m   1888\u001b[0m     \u001b[39mreturn\u001b[39;00m cast(\u001b[39m\"\u001b[39m\u001b[39mnumpy.ndarray\u001b[39m\u001b[39m\"\u001b[39m, \u001b[39mself\u001b[39m\u001b[39m.\u001b[39m_pixel_array)\n",
      "File \u001b[0;32m~/Desktop/Sandbox/UCSF_BrainMetastases_v1.1/nii2dcm-venv/lib/python3.8/site-packages/pydicom/dataset.py:1444\u001b[0m, in \u001b[0;36mDataset.convert_pixel_data\u001b[0;34m(self, handler_name)\u001b[0m\n\u001b[1;32m   1442\u001b[0m     \u001b[39mself\u001b[39m\u001b[39m.\u001b[39m_convert_pixel_data_using_handler(handler_name)\n\u001b[1;32m   1443\u001b[0m \u001b[39melse\u001b[39;00m:\n\u001b[0;32m-> 1444\u001b[0m     \u001b[39mself\u001b[39;49m\u001b[39m.\u001b[39;49m_convert_pixel_data_without_handler()\n",
      "File \u001b[0;32m~/Desktop/Sandbox/UCSF_BrainMetastases_v1.1/nii2dcm-venv/lib/python3.8/site-packages/pydicom/dataset.py:1556\u001b[0m, in \u001b[0;36mDataset._convert_pixel_data_without_handler\u001b[0;34m(self)\u001b[0m\n\u001b[1;32m   1547\u001b[0m \u001b[39mself\u001b[39m\u001b[39m.\u001b[39m_pixel_id \u001b[39m=\u001b[39m {}\n\u001b[1;32m   1549\u001b[0m logger\u001b[39m.\u001b[39minfo(\n\u001b[1;32m   1550\u001b[0m     \u001b[39m\"\u001b[39m\u001b[39mUnable to decode the pixel data using the following handlers: \u001b[39m\u001b[39m{}\u001b[39;00m\u001b[39m.\u001b[39m\u001b[39m\"\u001b[39m\n\u001b[1;32m   1551\u001b[0m     \u001b[39m\"\u001b[39m\u001b[39mPlease see the list of supported Transfer Syntaxes in the \u001b[39m\u001b[39m\"\u001b[39m\n\u001b[0;32m   (...)\u001b[0m\n\u001b[1;32m   1554\u001b[0m     \u001b[39m.\u001b[39mformat(\u001b[39m\"\u001b[39m\u001b[39m, \u001b[39m\u001b[39m\"\u001b[39m\u001b[39m.\u001b[39mjoin([\u001b[39mstr\u001b[39m(hh) \u001b[39mfor\u001b[39;00m hh \u001b[39min\u001b[39;00m available_handlers]))\n\u001b[1;32m   1555\u001b[0m )\n\u001b[0;32m-> 1556\u001b[0m \u001b[39mraise\u001b[39;00m last_exception\n",
      "File \u001b[0;32m~/Desktop/Sandbox/UCSF_BrainMetastases_v1.1/nii2dcm-venv/lib/python3.8/site-packages/pydicom/dataset.py:1536\u001b[0m, in \u001b[0;36mDataset._convert_pixel_data_without_handler\u001b[0;34m(self)\u001b[0m\n\u001b[1;32m   1534\u001b[0m \u001b[39mfor\u001b[39;00m handler \u001b[39min\u001b[39;00m available_handlers:\n\u001b[1;32m   1535\u001b[0m     \u001b[39mtry\u001b[39;00m:\n\u001b[0;32m-> 1536\u001b[0m         \u001b[39mself\u001b[39;49m\u001b[39m.\u001b[39;49m_do_pixel_data_conversion(handler)\n\u001b[1;32m   1537\u001b[0m         \u001b[39mreturn\u001b[39;00m\n\u001b[1;32m   1538\u001b[0m     \u001b[39mexcept\u001b[39;00m \u001b[39mException\u001b[39;00m \u001b[39mas\u001b[39;00m exc:\n",
      "File \u001b[0;32m~/Desktop/Sandbox/UCSF_BrainMetastases_v1.1/nii2dcm-venv/lib/python3.8/site-packages/pydicom/dataset.py:1563\u001b[0m, in \u001b[0;36mDataset._do_pixel_data_conversion\u001b[0;34m(self, handler)\u001b[0m\n\u001b[1;32m   1559\u001b[0m \u001b[39m\u001b[39m\u001b[39m\"\"\"Do the actual data conversion using the given handler.\"\"\"\u001b[39;00m\n\u001b[1;32m   1561\u001b[0m \u001b[39m# Use the handler to get a 1D numpy array of the pixel data\u001b[39;00m\n\u001b[1;32m   1562\u001b[0m \u001b[39m# Will raise an exception if no pixel data element\u001b[39;00m\n\u001b[0;32m-> 1563\u001b[0m arr \u001b[39m=\u001b[39m handler\u001b[39m.\u001b[39;49mget_pixeldata(\u001b[39mself\u001b[39;49m)\n\u001b[1;32m   1564\u001b[0m \u001b[39mself\u001b[39m\u001b[39m.\u001b[39m_pixel_array \u001b[39m=\u001b[39m reshape_pixel_array(\u001b[39mself\u001b[39m, arr)\n\u001b[1;32m   1566\u001b[0m \u001b[39m# Some handler/transfer syntax combinations may need to\u001b[39;00m\n\u001b[1;32m   1567\u001b[0m \u001b[39m#   convert the color space from YCbCr to RGB\u001b[39;00m\n",
      "File \u001b[0;32m~/Desktop/Sandbox/UCSF_BrainMetastases_v1.1/nii2dcm-venv/lib/python3.8/site-packages/pydicom/pixel_data_handlers/numpy_handler.py:221\u001b[0m, in \u001b[0;36mget_pixeldata\u001b[0;34m(ds, read_only)\u001b[0m\n\u001b[1;32m    217\u001b[0m         warnings\u001b[39m.\u001b[39mwarn(\n\u001b[1;32m    218\u001b[0m             \u001b[39m\"\u001b[39m\u001b[39mThe odd length pixel data is missing a trailing padding byte\u001b[39m\u001b[39m\"\u001b[39m\n\u001b[1;32m    219\u001b[0m         )\n\u001b[1;32m    220\u001b[0m     \u001b[39melse\u001b[39;00m:\n\u001b[0;32m--> 221\u001b[0m         \u001b[39mraise\u001b[39;00m \u001b[39mValueError\u001b[39;00m(\n\u001b[1;32m    222\u001b[0m             \u001b[39m\"\u001b[39m\u001b[39mThe length of the pixel data in the dataset (\u001b[39m\u001b[39m{}\u001b[39;00m\u001b[39m bytes) \u001b[39m\u001b[39m\"\u001b[39m\n\u001b[1;32m    223\u001b[0m             \u001b[39m\"\u001b[39m\u001b[39mdoesn\u001b[39m\u001b[39m'\u001b[39m\u001b[39mt match the expected length (\u001b[39m\u001b[39m{}\u001b[39;00m\u001b[39m bytes). \u001b[39m\u001b[39m\"\u001b[39m\n\u001b[1;32m    224\u001b[0m             \u001b[39m\"\u001b[39m\u001b[39mThe dataset may be corrupted or there may be an issue \u001b[39m\u001b[39m\"\u001b[39m\n\u001b[1;32m    225\u001b[0m             \u001b[39m\"\u001b[39m\u001b[39mwith the pixel data handler.\u001b[39m\u001b[39m\"\u001b[39m\n\u001b[1;32m    226\u001b[0m             \u001b[39m.\u001b[39mformat(actual_length, padded_expected_len)\n\u001b[1;32m    227\u001b[0m         )\n\u001b[1;32m    228\u001b[0m \u001b[39melif\u001b[39;00m actual_length \u001b[39m>\u001b[39m padded_expected_len:\n\u001b[1;32m    229\u001b[0m     \u001b[39m# PS 3.5, Section 8.1.1\u001b[39;00m\n\u001b[1;32m    230\u001b[0m     msg \u001b[39m=\u001b[39m (\n\u001b[1;32m    231\u001b[0m         \u001b[39m\"\u001b[39m\u001b[39mThe length of the pixel data in the dataset (\u001b[39m\u001b[39m{}\u001b[39;00m\u001b[39m bytes) indicates \u001b[39m\u001b[39m\"\u001b[39m\n\u001b[1;32m    232\u001b[0m         \u001b[39m\"\u001b[39m\u001b[39mit contains excess padding. \u001b[39m\u001b[39m{}\u001b[39;00m\u001b[39m bytes will be removed from the \u001b[39m\u001b[39m\"\u001b[39m\n\u001b[1;32m    233\u001b[0m         \u001b[39m\"\u001b[39m\u001b[39mend of the data\u001b[39m\u001b[39m\"\u001b[39m\n\u001b[1;32m    234\u001b[0m         \u001b[39m.\u001b[39mformat(actual_length, actual_length \u001b[39m-\u001b[39m expected_len)\n\u001b[1;32m    235\u001b[0m     )\n",
      "\u001b[0;31mValueError\u001b[0m: The length of the pixel data in the dataset (131072 bytes) doesn't match the expected length (262144 bytes). The dataset may be corrupted or there may be an issue with the pixel data handler."
     ]
    }
   ],
   "source": [
    "print(ds)\n",
    "\n",
    "# Access pixel data as a NumPy array (if available)\n",
    "if 'PixelData' in ds:\n",
    "    ds.PhotometricInterpretation = \"MONOCHROME2\"\n",
    "    ds.PixelRepresentation = 0\n",
    "    ds.BitsStored = 8\n",
    "    ds.SamplesPerPixel = 2\n",
    "    ds.PlanarConfiguration = 1\n",
    "\n",
    "    try:\n",
    "        pixel_array = ds.pixel_array\n",
    "    except AttributeError as e:\n",
    "        print(e)\n",
    "\n",
    "    # 'pixel_array' is a 2D NumPy array representing the image\n",
    "    # You can visualize or process this array as needed"
   ]
  },
  {
   "cell_type": "code",
   "execution_count": 20,
   "metadata": {},
   "outputs": [
    {
     "ename": "NameError",
     "evalue": "name 'pixel_array' is not defined",
     "output_type": "error",
     "traceback": [
      "\u001b[0;31m---------------------------------------------------------------------------\u001b[0m",
      "\u001b[0;31mNameError\u001b[0m                                 Traceback (most recent call last)",
      "Cell \u001b[0;32mIn[20], line 2\u001b[0m\n\u001b[1;32m      1\u001b[0m \u001b[39mif\u001b[39;00m \u001b[39m'\u001b[39m\u001b[39mPixelData\u001b[39m\u001b[39m'\u001b[39m \u001b[39min\u001b[39;00m ds:\n\u001b[0;32m----> 2\u001b[0m     plt\u001b[39m.\u001b[39mimshow(pixel_array, cmap\u001b[39m=\u001b[39mplt\u001b[39m.\u001b[39mcm\u001b[39m.\u001b[39mgray)\n\u001b[1;32m      3\u001b[0m     plt\u001b[39m.\u001b[39mtitle(\u001b[39m'\u001b[39m\u001b[39mDICOM Image\u001b[39m\u001b[39m'\u001b[39m)\n\u001b[1;32m      4\u001b[0m     plt\u001b[39m.\u001b[39mshow()\n",
      "\u001b[0;31mNameError\u001b[0m: name 'pixel_array' is not defined"
     ]
    }
   ],
   "source": [
    "if 'PixelData' in ds:\n",
    "    plt.imshow(pixel_array, cmap=plt.cm.gray)\n",
    "    plt.title('DICOM Image')\n",
    "    plt.show()"
   ]
  },
  {
   "cell_type": "code",
   "execution_count": 5,
   "metadata": {},
   "outputs": [],
   "source": [
    "import os\n",
    "import imageio\n",
    "\n",
    "eFLAIR_images = os.listdir('train-dic/100101A/100101A_FLAIR.nii.gz')\n"
   ]
  },
  {
   "cell_type": "code",
   "execution_count": 7,
   "metadata": {},
   "outputs": [
    {
     "name": "stderr",
     "output_type": "stream",
     "text": [
      "/tmp/ipykernel_83734/1631032287.py:9: DeprecationWarning: Starting with ImageIO v3 the behavior of this function will switch to that of iio.v3.imread. To keep the current behavior (and make this warning disappear) use `import imageio.v2 as imageio` or call `imageio.v2.imread` directly.\n",
      "  image = imageio.imread(a)\n"
     ]
    },
    {
     "ename": "RuntimeError",
     "evalue": "DICOM file has no SamplesPerPixel (perhaps this is a report?)",
     "output_type": "error",
     "traceback": [
      "\u001b[0;31m---------------------------------------------------------------------------\u001b[0m",
      "\u001b[0;31mRuntimeError\u001b[0m                              Traceback (most recent call last)",
      "Cell \u001b[0;32mIn[7], line 9\u001b[0m\n\u001b[1;32m      6\u001b[0m image_names\u001b[39m.\u001b[39msort()\n\u001b[1;32m      8\u001b[0m \u001b[39mfor\u001b[39;00m a \u001b[39min\u001b[39;00m image_names:\n\u001b[0;32m----> 9\u001b[0m     image \u001b[39m=\u001b[39m imageio\u001b[39m.\u001b[39;49mimread(a)\n\u001b[1;32m     10\u001b[0m     image_frames\u001b[39m.\u001b[39mappend(image)\n\u001b[1;32m     11\u001b[0m imageio\u001b[39m.\u001b[39mmimsave(\u001b[39m'\u001b[39m\u001b[39mA.gif\u001b[39m\u001b[39m'\u001b[39m, image_frames, duration\u001b[39m=\u001b[39m\u001b[39m500\u001b[39m)\n",
      "File \u001b[0;32m~/Desktop/Sandbox/UCSF_BrainMetastases_v1.1/nii2dcm-venv/lib/python3.8/site-packages/imageio/__init__.py:97\u001b[0m, in \u001b[0;36mimread\u001b[0;34m(uri, format, **kwargs)\u001b[0m\n\u001b[1;32m     68\u001b[0m \u001b[39m\u001b[39m\u001b[39m\"\"\"imread(uri, format=None, **kwargs)\u001b[39;00m\n\u001b[1;32m     69\u001b[0m \n\u001b[1;32m     70\u001b[0m \u001b[39mReads an image from the specified file. Returns a numpy array, which\u001b[39;00m\n\u001b[0;32m   (...)\u001b[0m\n\u001b[1;32m     86\u001b[0m \u001b[39m    to see what arguments are available for a particular format.\u001b[39;00m\n\u001b[1;32m     87\u001b[0m \u001b[39m\"\"\"\u001b[39;00m\n\u001b[1;32m     89\u001b[0m warnings\u001b[39m.\u001b[39mwarn(\n\u001b[1;32m     90\u001b[0m     \u001b[39m\"\u001b[39m\u001b[39mStarting with ImageIO v3 the behavior of this function will switch to that of\u001b[39m\u001b[39m\"\u001b[39m\n\u001b[1;32m     91\u001b[0m     \u001b[39m\"\u001b[39m\u001b[39m iio.v3.imread. To keep the current behavior (and make this warning disappear)\u001b[39m\u001b[39m\"\u001b[39m\n\u001b[0;32m   (...)\u001b[0m\n\u001b[1;32m     94\u001b[0m     stacklevel\u001b[39m=\u001b[39m\u001b[39m2\u001b[39m,\n\u001b[1;32m     95\u001b[0m )\n\u001b[0;32m---> 97\u001b[0m \u001b[39mreturn\u001b[39;00m imread_v2(uri, \u001b[39mformat\u001b[39;49m\u001b[39m=\u001b[39;49m\u001b[39mformat\u001b[39;49m, \u001b[39m*\u001b[39;49m\u001b[39m*\u001b[39;49mkwargs)\n",
      "File \u001b[0;32m~/Desktop/Sandbox/UCSF_BrainMetastases_v1.1/nii2dcm-venv/lib/python3.8/site-packages/imageio/v2.py:360\u001b[0m, in \u001b[0;36mimread\u001b[0;34m(uri, format, **kwargs)\u001b[0m\n\u001b[1;32m    357\u001b[0m imopen_args[\u001b[39m\"\u001b[39m\u001b[39mlegacy_mode\u001b[39m\u001b[39m\"\u001b[39m] \u001b[39m=\u001b[39m \u001b[39mTrue\u001b[39;00m\n\u001b[1;32m    359\u001b[0m \u001b[39mwith\u001b[39;00m imopen(uri, \u001b[39m\"\u001b[39m\u001b[39mri\u001b[39m\u001b[39m\"\u001b[39m, \u001b[39m*\u001b[39m\u001b[39m*\u001b[39mimopen_args) \u001b[39mas\u001b[39;00m file:\n\u001b[0;32m--> 360\u001b[0m     result \u001b[39m=\u001b[39m file\u001b[39m.\u001b[39;49mread(index\u001b[39m=\u001b[39;49m\u001b[39m0\u001b[39;49m, \u001b[39m*\u001b[39;49m\u001b[39m*\u001b[39;49mkwargs)\n\u001b[1;32m    362\u001b[0m \u001b[39mreturn\u001b[39;00m result\n",
      "File \u001b[0;32m~/Desktop/Sandbox/UCSF_BrainMetastases_v1.1/nii2dcm-venv/lib/python3.8/site-packages/imageio/core/legacy_plugin_wrapper.py:147\u001b[0m, in \u001b[0;36mLegacyPlugin.read\u001b[0;34m(self, index, **kwargs)\u001b[0m\n\u001b[1;32m    144\u001b[0m     img \u001b[39m=\u001b[39m np\u001b[39m.\u001b[39mstack([im \u001b[39mfor\u001b[39;00m im \u001b[39min\u001b[39;00m \u001b[39mself\u001b[39m\u001b[39m.\u001b[39miter(\u001b[39m*\u001b[39m\u001b[39m*\u001b[39mkwargs)])\n\u001b[1;32m    145\u001b[0m     \u001b[39mreturn\u001b[39;00m img\n\u001b[0;32m--> 147\u001b[0m reader \u001b[39m=\u001b[39m \u001b[39mself\u001b[39;49m\u001b[39m.\u001b[39;49mlegacy_get_reader(\u001b[39m*\u001b[39;49m\u001b[39m*\u001b[39;49mkwargs)\n\u001b[1;32m    148\u001b[0m \u001b[39mreturn\u001b[39;00m reader\u001b[39m.\u001b[39mget_data(index)\n",
      "File \u001b[0;32m~/Desktop/Sandbox/UCSF_BrainMetastases_v1.1/nii2dcm-venv/lib/python3.8/site-packages/imageio/core/legacy_plugin_wrapper.py:116\u001b[0m, in \u001b[0;36mLegacyPlugin.legacy_get_reader\u001b[0;34m(self, **kwargs)\u001b[0m\n\u001b[1;32m    113\u001b[0m     \u001b[39mreturn\u001b[39;00m \u001b[39mself\u001b[39m\u001b[39m.\u001b[39m_format\u001b[39m.\u001b[39mget_reader(\u001b[39mself\u001b[39m\u001b[39m.\u001b[39m_request)\n\u001b[1;32m    115\u001b[0m \u001b[39mself\u001b[39m\u001b[39m.\u001b[39m_request\u001b[39m.\u001b[39mget_file()\u001b[39m.\u001b[39mseek(\u001b[39m0\u001b[39m)\n\u001b[0;32m--> 116\u001b[0m \u001b[39mreturn\u001b[39;00m \u001b[39mself\u001b[39;49m\u001b[39m.\u001b[39;49m_format\u001b[39m.\u001b[39;49mget_reader(\u001b[39mself\u001b[39;49m\u001b[39m.\u001b[39;49m_request)\n",
      "File \u001b[0;32m~/Desktop/Sandbox/UCSF_BrainMetastases_v1.1/nii2dcm-venv/lib/python3.8/site-packages/imageio/core/format.py:221\u001b[0m, in \u001b[0;36mFormat.get_reader\u001b[0;34m(self, request)\u001b[0m\n\u001b[1;32m    217\u001b[0m \u001b[39mif\u001b[39;00m select_mode \u001b[39mnot\u001b[39;00m \u001b[39min\u001b[39;00m \u001b[39mself\u001b[39m\u001b[39m.\u001b[39mmodes:\n\u001b[1;32m    218\u001b[0m     \u001b[39mraise\u001b[39;00m \u001b[39mRuntimeError\u001b[39;00m(\n\u001b[1;32m    219\u001b[0m         \u001b[39mf\u001b[39m\u001b[39m\"\u001b[39m\u001b[39mFormat \u001b[39m\u001b[39m{\u001b[39;00m\u001b[39mself\u001b[39m\u001b[39m.\u001b[39mname\u001b[39m}\u001b[39;00m\u001b[39m cannot read in \u001b[39m\u001b[39m{\u001b[39;00mrequest\u001b[39m.\u001b[39mmode\u001b[39m.\u001b[39mimage_mode\u001b[39m}\u001b[39;00m\u001b[39m mode\u001b[39m\u001b[39m\"\u001b[39m\n\u001b[1;32m    220\u001b[0m     )\n\u001b[0;32m--> 221\u001b[0m \u001b[39mreturn\u001b[39;00m \u001b[39mself\u001b[39;49m\u001b[39m.\u001b[39;49mReader(\u001b[39mself\u001b[39;49m, request)\n",
      "File \u001b[0;32m~/Desktop/Sandbox/UCSF_BrainMetastases_v1.1/nii2dcm-venv/lib/python3.8/site-packages/imageio/core/format.py:312\u001b[0m, in \u001b[0;36mFormat._BaseReaderWriter.__init__\u001b[0;34m(self, format, request)\u001b[0m\n\u001b[1;32m    310\u001b[0m \u001b[39mself\u001b[39m\u001b[39m.\u001b[39m_request \u001b[39m=\u001b[39m request\n\u001b[1;32m    311\u001b[0m \u001b[39m# Open the reader/writer\u001b[39;00m\n\u001b[0;32m--> 312\u001b[0m \u001b[39mself\u001b[39;49m\u001b[39m.\u001b[39;49m_open(\u001b[39m*\u001b[39;49m\u001b[39m*\u001b[39;49m\u001b[39mself\u001b[39;49m\u001b[39m.\u001b[39;49mrequest\u001b[39m.\u001b[39;49mkwargs\u001b[39m.\u001b[39;49mcopy())\n",
      "File \u001b[0;32m~/Desktop/Sandbox/UCSF_BrainMetastases_v1.1/nii2dcm-venv/lib/python3.8/site-packages/imageio/plugins/dicom.py:160\u001b[0m, in \u001b[0;36mDicomFormat.Reader._open\u001b[0;34m(self, progress)\u001b[0m\n\u001b[1;32m    157\u001b[0m \u001b[39melse\u001b[39;00m:\n\u001b[1;32m    158\u001b[0m     \u001b[39m# Read the given dataset now ...\u001b[39;00m\n\u001b[1;32m    159\u001b[0m     \u001b[39mtry\u001b[39;00m:\n\u001b[0;32m--> 160\u001b[0m         dcm \u001b[39m=\u001b[39m _dicom\u001b[39m.\u001b[39;49mSimpleDicomReader(\u001b[39mself\u001b[39;49m\u001b[39m.\u001b[39;49mrequest\u001b[39m.\u001b[39;49mget_file())\n\u001b[1;32m    161\u001b[0m     \u001b[39mexcept\u001b[39;00m _dicom\u001b[39m.\u001b[39mCompressedDicom \u001b[39mas\u001b[39;00m err:\n\u001b[1;32m    162\u001b[0m         \u001b[39m# We cannot do this on our own. Perhaps with some help ...\u001b[39;00m\n\u001b[1;32m    163\u001b[0m         cmd \u001b[39m=\u001b[39m get_gdcmconv_exe()\n",
      "File \u001b[0;32m~/Desktop/Sandbox/UCSF_BrainMetastases_v1.1/nii2dcm-venv/lib/python3.8/site-packages/imageio/plugins/_dicom.py:183\u001b[0m, in \u001b[0;36mSimpleDicomReader.__init__\u001b[0;34m(self, file)\u001b[0m\n\u001b[1;32m    165\u001b[0m \u001b[39mself\u001b[39m\u001b[39m.\u001b[39m_converters \u001b[39m=\u001b[39m {\n\u001b[1;32m    166\u001b[0m     \u001b[39m# Numbers\u001b[39;00m\n\u001b[1;32m    167\u001b[0m     \u001b[39m\"\u001b[39m\u001b[39mUS\u001b[39m\u001b[39m\"\u001b[39m: \u001b[39mlambda\u001b[39;00m x: \u001b[39mself\u001b[39m\u001b[39m.\u001b[39m_unpack(\u001b[39m\"\u001b[39m\u001b[39mH\u001b[39m\u001b[39m\"\u001b[39m, x),\n\u001b[0;32m   (...)\u001b[0m\n\u001b[1;32m    179\u001b[0m     \u001b[39m\"\u001b[39m\u001b[39mPN\u001b[39m\u001b[39m\"\u001b[39m: \u001b[39mlambda\u001b[39;00m x: x\u001b[39m.\u001b[39mdecode(\u001b[39m\"\u001b[39m\u001b[39mutf-8\u001b[39m\u001b[39m\"\u001b[39m, \u001b[39m\"\u001b[39m\u001b[39mignore\u001b[39m\u001b[39m\"\u001b[39m)\u001b[39m.\u001b[39mstrip(\u001b[39m\"\u001b[39m\u001b[39m\\x00\u001b[39;00m\u001b[39m\"\u001b[39m)\u001b[39m.\u001b[39mrstrip(),\n\u001b[1;32m    180\u001b[0m }\n\u001b[1;32m    182\u001b[0m \u001b[39m# Initiate reading\u001b[39;00m\n\u001b[0;32m--> 183\u001b[0m \u001b[39mself\u001b[39;49m\u001b[39m.\u001b[39;49m_read()\n",
      "File \u001b[0;32m~/Desktop/Sandbox/UCSF_BrainMetastases_v1.1/nii2dcm-venv/lib/python3.8/site-packages/imageio/plugins/_dicom.py:221\u001b[0m, in \u001b[0;36mSimpleDicomReader._read\u001b[0;34m(self)\u001b[0m\n\u001b[1;32m    219\u001b[0m \u001b[39mself\u001b[39m\u001b[39m.\u001b[39m_read_header()\n\u001b[1;32m    220\u001b[0m \u001b[39mself\u001b[39m\u001b[39m.\u001b[39m_read_data_elements()\n\u001b[0;32m--> 221\u001b[0m \u001b[39mself\u001b[39;49m\u001b[39m.\u001b[39;49m_get_shape_and_sampling()\n\u001b[1;32m    222\u001b[0m \u001b[39m# Close if done, reopen if necessary to read pixel data\u001b[39;00m\n\u001b[1;32m    223\u001b[0m \u001b[39mif\u001b[39;00m os\u001b[39m.\u001b[39mpath\u001b[39m.\u001b[39misfile(\u001b[39mself\u001b[39m\u001b[39m.\u001b[39m_filename):\n",
      "File \u001b[0;32m~/Desktop/Sandbox/UCSF_BrainMetastases_v1.1/nii2dcm-venv/lib/python3.8/site-packages/imageio/plugins/_dicom.py:447\u001b[0m, in \u001b[0;36mSimpleDicomReader._get_shape_and_sampling\u001b[0;34m(self)\u001b[0m\n\u001b[1;32m    445\u001b[0m         shape \u001b[39m=\u001b[39m \u001b[39mself\u001b[39m\u001b[39m.\u001b[39mRows, \u001b[39mself\u001b[39m\u001b[39m.\u001b[39mColumns\n\u001b[1;32m    446\u001b[0m \u001b[39melse\u001b[39;00m:\n\u001b[0;32m--> 447\u001b[0m     \u001b[39mraise\u001b[39;00m \u001b[39mRuntimeError\u001b[39;00m(\n\u001b[1;32m    448\u001b[0m         \u001b[39m\"\u001b[39m\u001b[39mDICOM file has no SamplesPerPixel \u001b[39m\u001b[39m\"\u001b[39m \u001b[39m\"\u001b[39m\u001b[39m(perhaps this is a report?)\u001b[39m\u001b[39m\"\u001b[39m\n\u001b[1;32m    449\u001b[0m     )\n\u001b[1;32m    451\u001b[0m \u001b[39m# Try getting sampling between pixels\u001b[39;00m\n\u001b[1;32m    452\u001b[0m \u001b[39mif\u001b[39;00m \u001b[39m\"\u001b[39m\u001b[39mPixelSpacing\u001b[39m\u001b[39m\"\u001b[39m \u001b[39min\u001b[39;00m \u001b[39mself\u001b[39m:\n",
      "\u001b[0;31mRuntimeError\u001b[0m: DICOM file has no SamplesPerPixel (perhaps this is a report?)"
     ]
    }
   ],
   "source": [
    "image_frames = []\n",
    "image_names=[]\n",
    "for image_name in eFLAIR_images:\n",
    "    i='train-dic/100101A/100101A_FLAIR.nii.gz/'+image_name\n",
    "    image_names.append(i)\n",
    "image_names.sort()\n",
    "\n",
    "for a in image_names:\n",
    "    image = imageio.imread(a)\n",
    "    image_frames.append(image)\n",
    "imageio.mimsave('A.gif', image_frames, duration=500)\n"
   ]
  },
  {
   "cell_type": "code",
   "execution_count": 47,
   "metadata": {},
   "outputs": [
    {
     "name": "stderr",
     "output_type": "stream",
     "text": [
      "/tmp/ipykernel_15366/4037400333.py:9: DeprecationWarning: Starting with ImageIO v3 the behavior of this function will switch to that of iio.v3.imread. To keep the current behavior (and make this warning disappear) use `import imageio.v2 as imageio` or call `imageio.v2.imread` directly.\n",
      "  image = imageio.imread(a)\n"
     ]
    }
   ],
   "source": [
    "image_frames = []\n",
    "image_names=[]\n",
    "eFLAIR_images = os.listdir('010005D/010005D/19000304/eFLAIR_longTR/')\n",
    "for image_name in eFLAIR_images:\n",
    "    i='010005D/010005D/19000304/eFLAIR_longTR/'+image_name\n",
    "    image_names.append(i)\n",
    "\n",
    "for a in image_names:\n",
    "    image = imageio.imread(a)\n",
    "    image_frames.append(image)\n",
    "imageio.mimsave('B.gif', image_frames, duration=300)\n"
   ]
  },
  {
   "cell_type": "code",
   "execution_count": 80,
   "metadata": {},
   "outputs": [
    {
     "name": "stdout",
     "output_type": "stream",
     "text": [
      "010005D/010005D/19000304/eFLAIR_longTR/1.2.840.113654.2.70.1.57605137894018571915202498482785297574.dcm\n",
      "010005D/010005D/19000304/eFLAIR_longTR/1.2.840.113654.2.70.1.126622920023328103950379650582036327519.dcm\n",
      "010005D/010005D/19000304/eFLAIR_longTR/1.2.840.113654.2.70.1.251820958515653624292426579497347882318.dcm\n",
      "010005D/010005D/19000304/eFLAIR_longTR/1.2.840.113654.2.70.1.298562254741664644817027193679067691273.dcm\n",
      "010005D/010005D/19000304/eFLAIR_longTR/1.2.840.113654.2.70.1.64469397663982757577237200510480224462.dcm\n",
      "010005D/010005D/19000304/eFLAIR_longTR/1.2.840.113654.2.70.1.109714918172799597656890203841681987183.dcm\n",
      "010005D/010005D/19000304/eFLAIR_longTR/1.2.840.113654.2.70.1.335145217688665662607036510048119800614.dcm\n",
      "010005D/010005D/19000304/eFLAIR_longTR/1.2.840.113654.2.70.1.213056471631970155352573126547855618226.dcm\n",
      "010005D/010005D/19000304/eFLAIR_longTR/1.2.840.113654.2.70.1.260380949852278805725287011514236545303.dcm\n",
      "010005D/010005D/19000304/eFLAIR_longTR/1.2.840.113654.2.70.1.145574188506814359797886580078078005543.dcm\n",
      "010005D/010005D/19000304/eFLAIR_longTR/1.2.840.113654.2.70.1.88797492515637044556117243252108533757.dcm\n",
      "010005D/010005D/19000304/eFLAIR_longTR/1.2.840.113654.2.70.1.233982532635794367882650602030876988127.dcm\n",
      "010005D/010005D/19000304/eFLAIR_longTR/1.2.840.113654.2.70.1.110783562342382238202612778273476057888.dcm\n",
      "010005D/010005D/19000304/eFLAIR_longTR/1.2.840.113654.2.70.1.86969892296231883590700238888971595861.dcm\n",
      "010005D/010005D/19000304/eFLAIR_longTR/1.2.840.113654.2.70.1.301973123337456045344006459375450139416.dcm\n",
      "010005D/010005D/19000304/eFLAIR_longTR/1.2.840.113654.2.70.1.52231162787016828463657963988027547227.dcm\n",
      "010005D/010005D/19000304/eFLAIR_longTR/1.2.840.113654.2.70.1.321893620192844764267108354753354872873.dcm\n",
      "010005D/010005D/19000304/eFLAIR_longTR/1.2.840.113654.2.70.1.52508074849408002008488686592663859024.dcm\n",
      "010005D/010005D/19000304/eFLAIR_longTR/1.2.840.113654.2.70.1.277809874953830919055940419613777926384.dcm\n",
      "010005D/010005D/19000304/eFLAIR_longTR/1.2.840.113654.2.70.1.172953907871179333920291950446923872552.dcm\n",
      "010005D/010005D/19000304/eFLAIR_longTR/1.2.840.113654.2.70.1.220476251638290486043639114915844984714.dcm\n",
      "010005D/010005D/19000304/eFLAIR_longTR/1.2.840.113654.2.70.1.224033796119885248371724563688217070586.dcm\n",
      "010005D/010005D/19000304/eFLAIR_longTR/1.2.840.113654.2.70.1.322905620171280165293028755132381987675.dcm\n",
      "010005D/010005D/19000304/eFLAIR_longTR/1.2.840.113654.2.70.1.332370128847341211498938276140820123547.dcm\n",
      "010005D/010005D/19000304/eFLAIR_longTR/1.2.840.113654.2.70.1.11659274823684064505788306690484168414.dcm\n",
      "010005D/010005D/19000304/eFLAIR_longTR/1.2.840.113654.2.70.1.21002778685827533537655492917915130467.dcm\n",
      "010005D/010005D/19000304/eFLAIR_longTR/1.2.840.113654.2.70.1.303937740212740762971919550113754958863.dcm\n",
      "010005D/010005D/19000304/eFLAIR_longTR/1.2.840.113654.2.70.1.126390617700615989619520535118807246227.dcm\n",
      "010005D/010005D/19000304/eFLAIR_longTR/1.2.840.113654.2.70.1.75765730364449118716404812414614103119.dcm\n",
      "010005D/010005D/19000304/eFLAIR_longTR/1.2.840.113654.2.70.1.31494812253611231677145617829690357174.dcm\n"
     ]
    },
    {
     "name": "stderr",
     "output_type": "stream",
     "text": [
      "/tmp/ipykernel_15366/236067455.py:16: DeprecationWarning: Starting with ImageIO v3 the behavior of this function will switch to that of iio.v3.imread. To keep the current behavior (and make this warning disappear) use `import imageio.v2 as imageio` or call `imageio.v2.imread` directly.\n",
      "  image = imageio.imread(a)\n"
     ]
    }
   ],
   "source": [
    "import os\n",
    "import imageio\n",
    "from PIL import Image, ImageDraw, ImageFont\n",
    "\n",
    "# Get the list of all the eFLAIR images\n",
    "eFLAIR_images = os.listdir('010005D/010005D/19000304/eFLAIR_longTR')\n",
    "\n",
    "# Create a list of image frames\n",
    "image_frames = []\n",
    "image_names = []\n",
    "for image_name in eFLAIR_images:\n",
    "    i = '010005D/010005D/19000304/eFLAIR_longTR/' + image_name\n",
    "    image_names.append(i)\n",
    "\n",
    "for a in image_names:\n",
    "    image = imageio.imread(a)\n",
    "    image_frames.append(image)\n",
    "\n",
    "# Add the name of the image to the GIF\n",
    "for image_frame, image_name in zip(image_frames, image_names):\n",
    "    image = Image.fromarray(image_frame)\n",
    "    draw = ImageDraw.Draw(image)\n",
    "    font = ImageFont.truetype('arial.ttf', size=1, index=0)\n",
    "\n",
    "    # Get the text dimensions\n",
    "    text_width, text_height = font.getmetrics()\n",
    "\n",
    "    # Calculate the center coordinates of the image\n",
    "    x = (image.width - text_width) // 2\n",
    "    y = (image.height - text_height) // 2\n",
    "\n",
    "    # Draw the text\n",
    "    draw.text((x, y), image_name, font=font, fill=(0))\n",
    "    print(image_name)\n",
    "# Save the GIF\n",
    "imageio.mimsave('B_text.gif', image_frames, duration=300)\n"
   ]
  },
  {
   "cell_type": "code",
   "execution_count": 6,
   "metadata": {},
   "outputs": [
    {
     "name": "stdout",
     "output_type": "stream",
     "text": [
      "PASBNXE\n"
     ]
    }
   ],
   "source": [
    "encrypted_message = \"eEpth4X\"\n",
    "keyword = \"PASBNXE\"\n",
    "\n",
    "decrypted_message = \"\"\n",
    "\n",
    "for i in range(len(encrypted_message)):\n",
    "  shift_value = ord(encrypted_message[i]) - ord(keyword[i])\n",
    "  decrypted_letter = chr(ord(encrypted_message[i]) - shift_value)\n",
    "  decrypted_message += decrypted_letter\n",
    "\n",
    "print(decrypted_message)\n",
    "\n"
   ]
  },
  {
   "cell_type": "code",
   "execution_count": 2,
   "metadata": {},
   "outputs": [
    {
     "data": {
      "text/plain": [
       "{'P': 0, 'A': 1, 'S': 2, 'B': 3, 'N': 4, 'X': 5, 'E': 6}"
      ]
     },
     "execution_count": 2,
     "metadata": {},
     "output_type": "execute_result"
    }
   ],
   "source": [
    "# write a function for creating a shift table\n",
    "def shift_table(keyword):\n",
    "    shift_table = {}\n",
    "    keyword = keyword.upper()\n",
    "    for i in range(len(keyword)):\n",
    "        shift_table[keyword[i]] = i\n",
    "    return shift_table\n",
    "\n",
    "#example\n",
    "shift_table(\"PASBNXE\")\n"
   ]
  },
  {
   "cell_type": "code",
   "execution_count": null,
   "metadata": {},
   "outputs": [],
   "source": []
  }
 ],
 "metadata": {
  "kernelspec": {
   "display_name": "Brain",
   "language": "python",
   "name": "python3"
  },
  "language_info": {
   "codemirror_mode": {
    "name": "ipython",
    "version": 3
   },
   "file_extension": ".py",
   "mimetype": "text/x-python",
   "name": "python",
   "nbconvert_exporter": "python",
   "pygments_lexer": "ipython3",
   "version": "3.8.10"
  },
  "orig_nbformat": 4
 },
 "nbformat": 4,
 "nbformat_minor": 2
}
