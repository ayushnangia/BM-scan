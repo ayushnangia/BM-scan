{
 "cells": [
  {
   "cell_type": "code",
   "execution_count": null,
   "metadata": {},
   "outputs": [],
   "source": [
    "import nibabel as nib\n",
    "\n",
    "# Replace 'path_to_input_image.nii.gz' with the path to your NIfTI image\n",
    "\n",
    "img = nib.load('train/100101A/100101A_FLAIR.nii.gz')\n",
    "data = img.get_fdata()\n",
    "min_intensity = data.min()\n",
    "max_intensity = data.max()\n",
    "\n",
    "normalized_data = (data - min_intensity) / (max_intensity - min_intensity)\n",
    "normalized_img = nib.Nifti1Image(normalized_data, img.affine)\n",
    "nib.save(normalized_img, 'train-or/norm.nii.gz')\n",
    "\n"
   ]
  },
  {
   "cell_type": "markdown",
   "metadata": {},
   "source": [
    "### Normailizing all the values\n",
    "\n",
    "\n",
    "Performing image intensity normalization on NIfTI files involves scaling the pixel or voxel intensities to a common range, typically between 0 and 1 or -1 to 1. This process helps to make the data more comparable and suitable for further analysis or processing. Here's how you can perform image intensity normalization on NIfTI files using Python and the NiBabel library"
   ]
  },
  {
   "cell_type": "code",
   "execution_count": null,
   "metadata": {},
   "outputs": [],
   "source": [
    "import os\n",
    "import nibabel as nib\n",
    "\n",
    "def normalize_nifti_files(input_folder, output_folder):\n",
    "    # Get a list of all NIfTI files in the input folder and its subdirectories\n",
    "    nifti_files = [file for file in os.listdir(input_folder) if file.endswith('.nii.gz')]\n",
    "\n",
    "    for nifti_file in nifti_files:\n",
    "        # Load the NIfTI image\n",
    "        img = nib.load(os.path.join(input_folder, nifti_file))\n",
    "        data = img.get_fdata()\n",
    "\n",
    "        # Normalize the intensity\n",
    "        min_intensity = data.min()\n",
    "        max_intensity = data.max()\n",
    "        normalized_data = (data - min_intensity) / (max_intensity - min_intensity)\n",
    "\n",
    "        # Create the output folder if it doesn't exist\n",
    "        if not os.path.exists(output_folder):\n",
    "            os.makedirs(output_folder)\n",
    "\n",
    "        # Save the normalized NIfTI image to the output folder\n",
    "        output_file = os.path.join(output_folder, nifti_file)\n",
    "        normalized_img = nib.Nifti1Image(normalized_data, img.affine)\n",
    "        nib.save(normalized_img, output_file)\n",
    "\n",
    "if __name__ == \"__main__\":\n",
    "    input_folder = \"train\"  # Replace with the path to the folder containing patient subfolders\n",
    "    output_folder = \"train-or\"  # Replace with the desired output folder for the normalized images\n",
    "\n",
    "    for patient_folder in os.listdir(input_folder):\n",
    "        # Process each patient folder and normalize the NIfTI files\n",
    "        patient_input_folder = os.path.join(input_folder, patient_folder)\n",
    "        patient_output_folder = os.path.join(output_folder, patient_folder)\n",
    "        normalize_nifti_files(patient_input_folder, patient_output_folder)\n"
   ]
  },
  {
   "cell_type": "markdown",
   "metadata": {},
   "source": [
    "### Noise reduction\n",
    "- tried scipy but it increased the noise\n",
    "- trying skimage is better and can see some improvment "
   ]
  },
  {
   "cell_type": "code",
   "execution_count": null,
   "metadata": {},
   "outputs": [],
   "source": [
    "import os\n",
    "import nibabel as nib\n",
    "from skimage.restoration import denoise_nl_means, estimate_sigma\n",
    "\n",
    "def apply_noise_reduction(input_file, output_file, patch_size=3, patch_distance=1):\n",
    "    # Load the NIfTI image\n",
    "    img = nib.load(input_file)\n",
    "    data = img.get_fdata()\n",
    "\n",
    "    # Estimate the noise standard deviation from the image\n",
    "    sigma_est = estimate_sigma(data)\n",
    "\n",
    "    # Apply Non-Local Means denoising\n",
    "    denoised_data = denoise_nl_means(data, patch_size=patch_size, patch_distance=patch_distance, h=sigma_est)\n",
    "\n",
    "    # Save the denoised data to a new NIfTI file\n",
    "    denoised_img = nib.Nifti1Image(denoised_data, img.affine)\n",
    "    nib.save(denoised_img, output_file)\n",
    "\n",
    "def process_patient_folder(input_folder, output_folder, patch_size=3, patch_distance=1):\n",
    "    # Get a list of all NIfTI files in the input folder\n",
    "    nifti_files = [file for file in os.listdir(input_folder) if file.endswith('.nii.gz')]\n",
    "\n",
    "    for nifti_file in nifti_files:\n",
    "        input_file = os.path.join(input_folder, nifti_file)\n",
    "        output_file = os.path.join(output_folder, nifti_file)\n",
    "        apply_noise_reduction(input_file, output_file, patch_size, patch_distance)\n",
    "\n",
    "if __name__ == \"__main__\":\n",
    "    input_folder = \"train\"  # Replace with the path to the folder containing patient subfolders\n",
    "    output_folder = \"train-or\"  # Replace with the desired output folder for the denoised images\n",
    "    patch_size = 3  # Adjust the patch size for denoising\n",
    "    patch_distance = 1  # Adjust the patch distance for denoising\n",
    "\n",
    "    for patient_folder in os.listdir(input_folder):\n",
    "        # Process each patient folder and apply noise reduction\n",
    "        patient_input_folder = os.path.join(input_folder, patient_folder)\n",
    "        patient_output_folder = os.path.join(output_folder, patient_folder)\n",
    "\n",
    "        # Create the patient-specific output folder if it doesn't exist\n",
    "        if not os.path.exists(patient_output_folder):\n",
    "            os.makedirs(patient_output_folder)\n",
    "\n",
    "        # Process the patient folder and save denoised images\n",
    "        process_patient_folder(patient_input_folder, patient_output_folder, patch_size, patch_distance)\n"
   ]
  },
  {
   "cell_type": "markdown",
   "metadata": {},
   "source": [
    "### Bias Field correction?"
   ]
  },
  {
   "cell_type": "code",
   "execution_count": 2,
   "metadata": {},
   "outputs": [
    {
     "ename": "OSError",
     "evalue": "No command \"N4BiasFieldCorrection\" found on host charon-Legion-5-15ACH6. Please check that the corresponding package is installed.",
     "output_type": "error",
     "traceback": [
      "\u001b[0;31m---------------------------------------------------------------------------\u001b[0m",
      "\u001b[0;31mOSError\u001b[0m                                   Traceback (most recent call last)",
      "Cell \u001b[0;32mIn[2], line 41\u001b[0m\n\u001b[1;32m     38\u001b[0m     os\u001b[39m.\u001b[39mmakedirs(patient_output_folder)\n\u001b[1;32m     40\u001b[0m \u001b[39m# Process the patient folder and save corrected images\u001b[39;00m\n\u001b[0;32m---> 41\u001b[0m process_patient_folder(patient_input_folder, patient_output_folder)\n",
      "Cell \u001b[0;32mIn[2], line 25\u001b[0m, in \u001b[0;36mprocess_patient_folder\u001b[0;34m(input_folder, output_folder)\u001b[0m\n\u001b[1;32m     22\u001b[0m output_file \u001b[39m=\u001b[39m os\u001b[39m.\u001b[39mpath\u001b[39m.\u001b[39mjoin(output_folder, nifti_file)\n\u001b[1;32m     24\u001b[0m \u001b[39m# Perform bias field correction\u001b[39;00m\n\u001b[0;32m---> 25\u001b[0m perform_bias_field_correction(input_file, output_file)\n",
      "Cell \u001b[0;32mIn[2], line 14\u001b[0m, in \u001b[0;36mperform_bias_field_correction\u001b[0;34m(input_file, output_file)\u001b[0m\n\u001b[1;32m     11\u001b[0m n4\u001b[39m.\u001b[39minputs\u001b[39m.\u001b[39moutput_image \u001b[39m=\u001b[39m output_file\n\u001b[1;32m     13\u001b[0m \u001b[39m# Run the bias field correction\u001b[39;00m\n\u001b[0;32m---> 14\u001b[0m n4\u001b[39m.\u001b[39;49mrun()\n",
      "File \u001b[0;32m~/Desktop/Sandbox/UCSF_BrainMetastases_v1.1/nii/lib/python3.8/site-packages/nipype/interfaces/base/core.py:397\u001b[0m, in \u001b[0;36mBaseInterface.run\u001b[0;34m(self, cwd, ignore_exception, **inputs)\u001b[0m\n\u001b[1;32m    395\u001b[0m \u001b[39m# Run interface\u001b[39;00m\n\u001b[1;32m    396\u001b[0m runtime \u001b[39m=\u001b[39m \u001b[39mself\u001b[39m\u001b[39m.\u001b[39m_pre_run_hook(runtime)\n\u001b[0;32m--> 397\u001b[0m runtime \u001b[39m=\u001b[39m \u001b[39mself\u001b[39;49m\u001b[39m.\u001b[39;49m_run_interface(runtime)\n\u001b[1;32m    398\u001b[0m runtime \u001b[39m=\u001b[39m \u001b[39mself\u001b[39m\u001b[39m.\u001b[39m_post_run_hook(runtime)\n\u001b[1;32m    399\u001b[0m \u001b[39m# Collect outputs\u001b[39;00m\n",
      "File \u001b[0;32m~/Desktop/Sandbox/UCSF_BrainMetastases_v1.1/nii/lib/python3.8/site-packages/nipype/interfaces/base/core.py:752\u001b[0m, in \u001b[0;36mCommandLine._run_interface\u001b[0;34m(self, runtime, correct_return_codes)\u001b[0m\n\u001b[1;32m    749\u001b[0m cmd_path \u001b[39m=\u001b[39m which(executable_name, env\u001b[39m=\u001b[39mruntime\u001b[39m.\u001b[39menviron)\n\u001b[1;32m    751\u001b[0m \u001b[39mif\u001b[39;00m cmd_path \u001b[39mis\u001b[39;00m \u001b[39mNone\u001b[39;00m:\n\u001b[0;32m--> 752\u001b[0m     \u001b[39mraise\u001b[39;00m \u001b[39mIOError\u001b[39;00m(\n\u001b[1;32m    753\u001b[0m         \u001b[39m'\u001b[39m\u001b[39mNo command \u001b[39m\u001b[39m\"\u001b[39m\u001b[39m%s\u001b[39;00m\u001b[39m\"\u001b[39m\u001b[39m found on host \u001b[39m\u001b[39m%s\u001b[39;00m\u001b[39m. Please check that the \u001b[39m\u001b[39m'\u001b[39m\n\u001b[1;32m    754\u001b[0m         \u001b[39m\"\u001b[39m\u001b[39mcorresponding package is installed.\u001b[39m\u001b[39m\"\u001b[39m\n\u001b[1;32m    755\u001b[0m         \u001b[39m%\u001b[39m (executable_name, runtime\u001b[39m.\u001b[39mhostname)\n\u001b[1;32m    756\u001b[0m     )\n\u001b[1;32m    758\u001b[0m runtime\u001b[39m.\u001b[39mcommand_path \u001b[39m=\u001b[39m cmd_path\n\u001b[1;32m    759\u001b[0m runtime\u001b[39m.\u001b[39mdependencies \u001b[39m=\u001b[39m (\n\u001b[1;32m    760\u001b[0m     get_dependencies(executable_name, runtime\u001b[39m.\u001b[39menviron)\n\u001b[1;32m    761\u001b[0m     \u001b[39mif\u001b[39;00m \u001b[39mself\u001b[39m\u001b[39m.\u001b[39m_ldd\n\u001b[1;32m    762\u001b[0m     \u001b[39melse\u001b[39;00m \u001b[39m\"\u001b[39m\u001b[39m<skipped>\u001b[39m\u001b[39m\"\u001b[39m\n\u001b[1;32m    763\u001b[0m )\n",
      "\u001b[0;31mOSError\u001b[0m: No command \"N4BiasFieldCorrection\" found on host charon-Legion-5-15ACH6. Please check that the corresponding package is installed."
     ]
    }
   ],
   "source": [
    "import os\n",
    "import nibabel as nib\n",
    "import nipype.interfaces.ants as ants\n",
    "\n",
    "def perform_bias_field_correction(input_file, output_file):\n",
    "    # Initialize the N4BiasFieldCorrection algorithm\n",
    "    n4 = ants.N4BiasFieldCorrection()\n",
    "\n",
    "    # Set the input NIfTI image data and output filename for the corrected image\n",
    "    n4.inputs.input_image = input_file\n",
    "    n4.inputs.output_image = output_file\n",
    "\n",
    "    # Run the bias field correction\n",
    "    n4.run()\n",
    "\n",
    "def process_patient_folder(input_folder, output_folder):\n",
    "    # Get a list of all NIfTI files in the input folder\n",
    "    nifti_files = [file for file in os.listdir(input_folder) if file.endswith('.nii.gz')]\n",
    "\n",
    "    for nifti_file in nifti_files:\n",
    "        input_file = os.path.join(input_folder, nifti_file)\n",
    "        output_file = os.path.join(output_folder, nifti_file)\n",
    "\n",
    "        # Perform bias field correction\n",
    "        perform_bias_field_correction(input_file, output_file)\n",
    "\n",
    "if __name__ == \"__main__\":\n",
    "    input_folder = \"train\"  # Replace with the path to the folder containing patient subfolders\n",
    "    output_folder = \"train-or\"  # Replace with the desired output folder for the corrected images\n",
    "\n",
    "    for patient_folder in os.listdir(input_folder):\n",
    "        # Process each patient folder and apply bias field correction\n",
    "        patient_input_folder = os.path.join(input_folder, patient_folder)\n",
    "        patient_output_folder = os.path.join(output_folder, patient_folder)\n",
    "\n",
    "        # Create the patient-specific output folder if it doesn't exist\n",
    "        if not os.path.exists(patient_output_folder):\n",
    "            os.makedirs(patient_output_folder)\n",
    "\n",
    "        # Process the patient folder and save corrected images\n",
    "        process_patient_folder(patient_input_folder, patient_output_folder)\n"
   ]
  },
  {
   "cell_type": "code",
   "execution_count": null,
   "metadata": {},
   "outputs": [],
   "source": []
  }
 ],
 "metadata": {
  "kernelspec": {
   "display_name": "nii2dcm-venv",
   "language": "python",
   "name": "python3"
  },
  "language_info": {
   "codemirror_mode": {
    "name": "ipython",
    "version": 3
   },
   "file_extension": ".py",
   "mimetype": "text/x-python",
   "name": "python",
   "nbconvert_exporter": "python",
   "pygments_lexer": "ipython3",
   "version": "3.8.10"
  },
  "orig_nbformat": 4
 },
 "nbformat": 4,
 "nbformat_minor": 2
}
